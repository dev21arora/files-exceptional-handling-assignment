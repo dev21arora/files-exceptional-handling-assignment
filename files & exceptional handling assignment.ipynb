{
  "nbformat": 4,
  "nbformat_minor": 0,
  "metadata": {
    "colab": {
      "provenance": []
    },
    "kernelspec": {
      "name": "python3",
      "display_name": "Python 3"
    },
    "language_info": {
      "name": "python"
    }
  },
  "cells": [
    {
      "cell_type": "markdown",
      "source": [
        "# Files & exceptional handling assignment\n"
      ],
      "metadata": {
        "id": "iuYAkuQnd8oT"
      }
    },
    {
      "cell_type": "markdown",
      "source": [
        "#THEORY QUESTIONS"
      ],
      "metadata": {
        "id": "OAc7sgY4eIuA"
      }
    },
    {
      "cell_type": "markdown",
      "source": [
        "Q1- What is the difference between interpreted and compiled languages?\n",
        "\n",
        "Interpreted languages (like Python) execute code line-by-line using an interpreter. This allows for easier debugging and platform independence but can be slower. Compiled languages (like C or C++) are translated into machine code before execution. This makes them faster and more efficient but less flexible during development."
      ],
      "metadata": {
        "id": "MgcF1FwZeP4T"
      }
    },
    {
      "cell_type": "markdown",
      "source": [
        "Q2- What is exception handling in Python?\n",
        "\n",
        " Exception handling is a mechanism that allows a program to deal with unexpected errors during execution. Instead of crashing, Python lets you catch and handle these errors using try, except, else, and finally blocks, ensuring the program continues running smoothly."
      ],
      "metadata": {
        "id": "ySarAoOgeQfb"
      }
    },
    {
      "cell_type": "markdown",
      "source": [
        "Q3- What is the purpose of the finally block in exception handling?\n",
        "\n",
        "The finally block is used to define cleanup actions that must be executed under all circumstances—whether an exception was raised or not. It's commonly used to close files, release resources, or reset states."
      ],
      "metadata": {
        "id": "5WpUElyLeQuN"
      }
    },
    {
      "cell_type": "markdown",
      "source": [
        "Q4- What is logging in Python?\n",
        "\n",
        " Logging is a way to track events that happen when software runs. Python’s logging module allows developers to record messages at different severity levels (like debug, info, warning, error, and critical), which helps in diagnosing problems and understanding program flow."
      ],
      "metadata": {
        "id": "c7rbthHHeQ6W"
      }
    },
    {
      "cell_type": "markdown",
      "source": [
        "Q5-What is the significance of the del method in Python?\n",
        "\n",
        " The del method is a special method called a destructor. It is automatically invoked when an object is about to be destroyed, allowing you to perform cleanup tasks. However, relying on it is discouraged because the timing of its execution is not guaranteed."
      ],
      "metadata": {
        "id": "CecH7ya_eRGG"
      }
    },
    {
      "cell_type": "markdown",
      "source": [
        "Q6-What is the difference between import and from ... import in Python?\n",
        "\n",
        " Import module: Imports the entire module. We access functions with module.function(). from module import function: Imports specific functions or classes, allowing direct use without the module prefix."
      ],
      "metadata": {
        "id": "l06yKKsgeRN8"
      }
    },
    {
      "cell_type": "markdown",
      "source": [
        "Q7-How can you handle multiple exceptions in Python?\n",
        "\n",
        "You can catch multiple exceptions using multiple except blocks or by grouping them in a tuple:\n",
        "try:\n",
        "except (TypeError, ValueError) as e: print(\"Caught an exception:\", e)\n"
      ],
      "metadata": {
        "id": "vr81FSkZeRSd"
      }
    },
    {
      "cell_type": "markdown",
      "source": [
        "Q8-What is the purpose of the with statement when handling files in Python?\n",
        "\n",
        "The with statement simplifies file handling by automatically managing file opening and closing. It ensures that the file is properly closed even if an error occurs during processing:\n",
        "with open('file.txt', 'r') as f: data = f.read()"
      ],
      "metadata": {
        "id": "HT8DuipIeRVn"
      }
    },
    {
      "cell_type": "markdown",
      "source": [
        "Q9-What is the difference between multithreading and multiprocessing?\n",
        "\n",
        "Multithreading: Multiple threads run in the same process and share memory. Best for I/O-bound tasks. Multiprocessing: Multiple processes run independently with separate memory. Ideal for CPU-bound tasks."
      ],
      "metadata": {
        "id": "gIsM555YeRYg"
      }
    },
    {
      "cell_type": "markdown",
      "source": [
        "Q10-What are the advantages of using logging in a program?\n",
        "\n",
        "Helps in debugging and monitoring,\n",
        "Records runtime events,\n",
        "Supports different severity levels,\n",
        "Can log to files, consoles, or remote servers,\n",
        "More flexible and powerful than print()."
      ],
      "metadata": {
        "id": "GuB3j-9LeRbF"
      }
    },
    {
      "cell_type": "markdown",
      "source": [
        "Q11-What is memory management in Python?\n",
        "\n",
        " Python handles memory automatically using reference counting and a garbage collector. It allocates memory for new objects and reclaims it when objects are no longer in use, helping prevent memory leaks."
      ],
      "metadata": {
        "id": "G4eIACh8eRd1"
      }
    },
    {
      "cell_type": "markdown",
      "source": [
        "Q12-What are the basic steps involved in exception handling in Python?\n",
        "\n",
        "Following are the basic steps involved in exception handeling: try: Wrap code that might raise an error except: Handle specific exceptions else: Run code if no exception occurs finally: Always run cleanup code"
      ],
      "metadata": {
        "id": "o4nPiT9yeRgJ"
      }
    },
    {
      "cell_type": "markdown",
      "source": [
        "Q13-Why is memory management important in Python?\n",
        "\n",
        " Efficient memory management ensures that your program uses system resources wisely, avoids memory leaks, and maintains performance, especially in long-running or data-intensive applications."
      ],
      "metadata": {
        "id": "dl3EA3jKeRil"
      }
    },
    {
      "cell_type": "markdown",
      "source": [
        "Q14-What is the role of try and except in exception handling?\n",
        "\n",
        "The try and except blocks in Python are used for exception handling. The try block contains code that might raise an error during execution. If an exception occurs, the control is passed to the except block, which handles the error and prevents the program from crashing. This ensures smooth and safe execution of the program."
      ],
      "metadata": {
        "id": "1zohxQZMeRlR"
      }
    },
    {
      "cell_type": "markdown",
      "source": [
        "Q15-How does Python's garbage collection system work?\n",
        "\n",
        " Python uses reference counting to track object usage. When an object’s reference count drops to zero, it’s deleted. It also uses a cyclic garbage collector to detect and clean up reference cycles."
      ],
      "metadata": {
        "id": "f3oVTjpMeRnx"
      }
    },
    {
      "cell_type": "markdown",
      "source": [
        "Q16-What is the purpose of the else block in exception handling?\n",
        "\n",
        " The else block runs only if the try block doesn’t raise an exception. It’s useful for code that should only execute when no errors occur."
      ],
      "metadata": {
        "id": "cERgPgEQeRqZ"
      }
    },
    {
      "cell_type": "markdown",
      "source": [
        "Q17-What are the common logging levels in Python?\n",
        "\n",
        " DEBUG: Detailed information for diagnosing problems INFO: General events confirming things are working WARNING: Something unexpected, but the program still works ERROR: A serious problem that prevents part of the program from working CRITICAL: A severe error causing the program to stop."
      ],
      "metadata": {
        "id": "tDNQqumceRsZ"
      }
    },
    {
      "cell_type": "markdown",
      "source": [
        "Q18-What is the difference between os.fork() and multiprocessing in Python?\n",
        "\n",
        "Fork(): Low-level, Unix-only method to create a child process. multiprocessing: High-level, cross-platform module that simplifies process creation and communication."
      ],
      "metadata": {
        "id": "N5T3Ey3FeRu4"
      }
    },
    {
      "cell_type": "markdown",
      "source": [
        "Q19-What is the importance of closing a file in Python?\n",
        "\n",
        " Closing a file ensures that all data is written to disk and system resources are released. Failing to close files can lead to data corruption or memory leaks."
      ],
      "metadata": {
        "id": "EnrTssk7eRxr"
      }
    },
    {
      "cell_type": "markdown",
      "source": [
        "Q20-What is the difference between file.read() and file.readline() in Python?\n",
        "\n",
        "Read(): Reads the entire file content as a single string readline(): Reads one line at a time, useful for large files."
      ],
      "metadata": {
        "id": "j5YKKdwBeR0B"
      }
    },
    {
      "cell_type": "markdown",
      "source": [
        "Q21-What is the logging module in Python used for?\n",
        "\n",
        "The logging module provides a flexible framework for emitting log messages from Python programs. It helps track events, errors, and system behavior during execution."
      ],
      "metadata": {
        "id": "JnfiHJZXeR2d"
      }
    },
    {
      "cell_type": "markdown",
      "source": [
        "Q22-What is the os module in Python used for in file handling?\n",
        "\n",
        " The os module allows interaction with the operating system. In file handling, it helps with tasks like checking file existence, creating directories, renaming, and deleting files."
      ],
      "metadata": {
        "id": "XxE8ziqseR48"
      }
    },
    {
      "cell_type": "markdown",
      "source": [
        "Q23-What are the challenges associated with memory management in Python?\n",
        "\n",
        "Detecting and cleaning circular references. Managing memory in large-scale applications. Avoiding memory leaks due to lingering references. Balancing performance with memory usage."
      ],
      "metadata": {
        "id": "zDM9ZkhCeR7H"
      }
    },
    {
      "cell_type": "markdown",
      "source": [
        "Q24-How do you raise an exception manually in Python?\n",
        "\n",
        " We can raise exceptions using the raise keyword to signal an error intentionally: raise ValueError(\"Invalid input provided\")"
      ],
      "metadata": {
        "id": "lLii2iUveR-d"
      }
    },
    {
      "cell_type": "markdown",
      "source": [
        "Q25-Why is it important to use multithreading in certain applications?\n",
        "\n",
        " Multithreading is useful in I/O-bound applications like web servers or file operations. It allows multiple tasks to run concurrently, improving responsiveness and performance."
      ],
      "metadata": {
        "id": "QLL9rE6AtkmO"
      }
    },
    {
      "cell_type": "markdown",
      "source": [
        "#PRACTICAL QUESTIONS"
      ],
      "metadata": {
        "id": "-MU1UO7vtt_R"
      }
    },
    {
      "cell_type": "markdown",
      "source": [
        "Q1-How can you open a file for writing in Python and write a string to it?"
      ],
      "metadata": {
        "id": "m-l0GKVAvHfA"
      }
    },
    {
      "cell_type": "code",
      "execution_count": 1,
      "metadata": {
        "id": "W1SbNfJQbo39"
      },
      "outputs": [],
      "source": [
        "with open(\"example.txt\", \"w\") as file:\n",
        "    file.write(\"Hello, world!\")"
      ]
    },
    {
      "cell_type": "markdown",
      "source": [
        "Q2-Write a Python program to read the contents of a file and print each line."
      ],
      "metadata": {
        "id": "eK9obx5EvRGW"
      }
    },
    {
      "cell_type": "code",
      "source": [
        "with open(\"practfile.txt\", \"r\") as file:\n",
        "    for line in file:\n",
        "        print(line.strip())"
      ],
      "metadata": {
        "colab": {
          "base_uri": "https://localhost:8080/"
        },
        "id": "lkJhw22RvP2d",
        "outputId": "f554c5cf-977c-48e2-98a5-67c786529922"
      },
      "execution_count": 7,
      "outputs": [
        {
          "output_type": "stream",
          "name": "stdout",
          "text": [
            "This is the first line.\n",
            "This is the second line.\n"
          ]
        }
      ]
    },
    {
      "cell_type": "markdown",
      "source": [
        "Q3-How would you handle a case where the file doesn't exist while trying to open it for reading?\n"
      ],
      "metadata": {
        "id": "oK0YYIHgwByK"
      }
    },
    {
      "cell_type": "code",
      "source": [
        "filename = \"nonexistent_file.txt\"\n",
        "\n",
        "try:\n",
        "    with open(filename, \"r\") as file:\n",
        "        content = file.read()\n",
        "        print(content)\n",
        "except FileNotFoundError:\n",
        "    print(f\"Error: The file '{filename}' does not exist.\")"
      ],
      "metadata": {
        "colab": {
          "base_uri": "https://localhost:8080/"
        },
        "id": "pBjAdf-9vY-U",
        "outputId": "b81e78fe-109d-475b-f0c3-1e7252916633"
      },
      "execution_count": 8,
      "outputs": [
        {
          "output_type": "stream",
          "name": "stdout",
          "text": [
            "Error: The file 'nonexistent_file.txt' does not exist.\n"
          ]
        }
      ]
    },
    {
      "cell_type": "markdown",
      "source": [
        "Q4-Write a Python script that reads from one file and writes its content to another file."
      ],
      "metadata": {
        "id": "sIDW5cTDwidA"
      }
    },
    {
      "cell_type": "code",
      "source": [
        "# Define source and destination file paths\n",
        "source_file = \"practfile.txt\"\n",
        "destination_file = \"example.txt\"\n",
        "\n",
        "try:\n",
        "    # Open the source file for reading\n",
        "    with open(source_file, \"r\") as src:\n",
        "        content = src.read()\n",
        "\n",
        "    # Open the destination file for writing\n",
        "    with open(destination_file, \"w\") as dest:\n",
        "        dest.write(content)\n",
        "\n",
        "    print(f\"Content successfully copied from '{source_file}' to '{destination_file}'.\")\n",
        "\n",
        "except FileNotFoundError:\n",
        "    print(f\"Error: The file '{source_file}' does not exist.\")\n",
        "except IOError as e:\n",
        "    print(f\"An I/O error occurred: {e}\")"
      ],
      "metadata": {
        "colab": {
          "base_uri": "https://localhost:8080/"
        },
        "id": "PKrIb17kwUpu",
        "outputId": "61eb6af1-bc58-4f95-aab2-f7f2868fb95b"
      },
      "execution_count": 9,
      "outputs": [
        {
          "output_type": "stream",
          "name": "stdout",
          "text": [
            "Content successfully copied from 'practfile.txt' to 'example.txt'.\n"
          ]
        }
      ]
    },
    {
      "cell_type": "code",
      "source": [
        "with open(\"example.txt\", \"r\") as file:\n",
        "    for line in file:\n",
        "        print(line.strip())"
      ],
      "metadata": {
        "colab": {
          "base_uri": "https://localhost:8080/"
        },
        "id": "7cyD0aldxDtm",
        "outputId": "32c4cddc-3f65-4f83-f9d9-9bbf924b8677"
      },
      "execution_count": 10,
      "outputs": [
        {
          "output_type": "stream",
          "name": "stdout",
          "text": [
            "This is the first line.\n",
            "This is the second line.\n"
          ]
        }
      ]
    },
    {
      "cell_type": "markdown",
      "source": [
        "Q5- How would you catch and handle division by zero error in Python?"
      ],
      "metadata": {
        "id": "hDnhCiJYwzFS"
      }
    },
    {
      "cell_type": "code",
      "source": [
        "try:\n",
        "    numerator = 5\n",
        "    denominator = 0\n",
        "    result = numerator / denominator\n",
        "    print(f\"Result: {result}\")\n",
        "except ZeroDivisionError:\n",
        "    print(\"Error: Hey, we cannot divide by zero.\")"
      ],
      "metadata": {
        "colab": {
          "base_uri": "https://localhost:8080/"
        },
        "id": "hd78laeCwxJn",
        "outputId": "95d320f1-b2db-42d3-d7f3-df14f72c7266"
      },
      "execution_count": 11,
      "outputs": [
        {
          "output_type": "stream",
          "name": "stdout",
          "text": [
            "Error: Hey, we cannot divide by zero.\n"
          ]
        }
      ]
    },
    {
      "cell_type": "markdown",
      "source": [
        "Q6-Write a Python program that logs an error message to a log file when a division by zero exception occurs.\n"
      ],
      "metadata": {
        "id": "k_aw4kqNxZir"
      }
    },
    {
      "cell_type": "code",
      "source": [
        "import logging\n",
        "\n",
        "# Configure logging to write to a file\n",
        "logging.basicConfig(\n",
        "    filename=\"error_log.txt\",\n",
        "    level=logging.ERROR,\n",
        "    format=\"%(asctime)s - %(levelname)s - %(message)s\"\n",
        ")\n",
        "\n",
        "def divide(a, b):\n",
        "    try:\n",
        "        result = a / b\n",
        "        print(f\"Result: {result}\")\n",
        "    except ZeroDivisionError as e:\n",
        "        logging.error(\"Attempted to divide by zero: %s\", e)\n",
        "        print(\"Error: Cannot divide by zero.\")\n",
        "\n",
        "# Example usage\n",
        "divide(5, 0)"
      ],
      "metadata": {
        "colab": {
          "base_uri": "https://localhost:8080/"
        },
        "id": "pi4oqfL4xTTI",
        "outputId": "83de950f-7140-4ca1-a8f5-5ed34e42a656"
      },
      "execution_count": 12,
      "outputs": [
        {
          "output_type": "stream",
          "name": "stderr",
          "text": [
            "ERROR:root:Attempted to divide by zero: division by zero\n"
          ]
        },
        {
          "output_type": "stream",
          "name": "stdout",
          "text": [
            "Error: Cannot divide by zero.\n"
          ]
        }
      ]
    },
    {
      "cell_type": "code",
      "source": [
        "import logging\n",
        "\n",
        "# Configure logging to write to a file\n",
        "\n",
        "logging.basicConfig(\n",
        "    filename=\"error_log.txt\",\n",
        "    level=logging.ERROR,\n",
        "    format=\"%(asctime)s - %(levelname)s - %(message)s\"\n",
        ")\n",
        "\n",
        "def divide(a, b):\n",
        "    try:\n",
        "        result = a / b\n",
        "        print(f\"Result: {result}\")\n",
        "    except ZeroDivisionError as e:\n",
        "        logging.error(\"Attempted to divide by zero: %s\", e)\n",
        "        print(\"Error: Cannot divide by zero.\")\n",
        "\n",
        "# Example usage\n",
        "divide(5, 0)"
      ],
      "metadata": {
        "colab": {
          "base_uri": "https://localhost:8080/"
        },
        "id": "QgMgND5fxxHj",
        "outputId": "e9097111-0896-4e69-c677-ab937710727f"
      },
      "execution_count": 16,
      "outputs": [
        {
          "output_type": "stream",
          "name": "stderr",
          "text": [
            "ERROR:root:Attempted to divide by zero: division by zero\n"
          ]
        },
        {
          "output_type": "stream",
          "name": "stdout",
          "text": [
            "Error: Cannot divide by zero.\n"
          ]
        }
      ]
    },
    {
      "cell_type": "markdown",
      "source": [
        "Q7-How do you log information at different levels (INFO, ERROR, WARNING) in Python using the logging module?"
      ],
      "metadata": {
        "id": "9ITC6I0Lxrte"
      }
    },
    {
      "cell_type": "code",
      "source": [
        "import logging\n",
        "\n",
        "# Configure logging\n",
        "logging.basicConfig(\n",
        "    filename=\"app.log\",\n",
        "    level=logging.DEBUG,  # Capture all levels from DEBUG and above\n",
        "    format=\"%(asctime)s - %(levelname)s - %(message)s\"\n",
        ")\n",
        "\n",
        "# Log messages at different levels\n",
        "logging.debug(\"This is a debug message.\")\n",
        "logging.info(\"This is an info message.\")\n",
        "logging.warning(\"This is a warning message.\")\n",
        "logging.error(\"This is an error message.\")\n",
        "logging.critical(\"This is a critical message.\")"
      ],
      "metadata": {
        "colab": {
          "base_uri": "https://localhost:8080/"
        },
        "id": "QNZ0GmHAxnlv",
        "outputId": "55aeb295-5d95-4e62-e653-c2f2b10f2562"
      },
      "execution_count": 18,
      "outputs": [
        {
          "output_type": "stream",
          "name": "stderr",
          "text": [
            "WARNING:root:This is a warning message.\n",
            "ERROR:root:This is an error message.\n",
            "CRITICAL:root:This is a critical message.\n"
          ]
        }
      ]
    },
    {
      "cell_type": "markdown",
      "source": [
        "Q8- Write a program to handle a file opening error using exception handling."
      ],
      "metadata": {
        "id": "jN7ln9dnyvW1"
      }
    },
    {
      "cell_type": "code",
      "source": [
        "filename = \"nonexistent_file.txt\"\n",
        "\n",
        "try:\n",
        "    with open(filename, \"r\") as file: #It'll read the file\n",
        "        content = file.read()\n",
        "        print(content)\n",
        "except FileNotFoundError:\n",
        "    print(f\"Error: The file '{filename}' was not found.\")\n",
        "except PermissionError:\n",
        "    print(f\"Error: Permission denied to open the file '{filename}'.\")\n",
        "except Exception as e:\n",
        "    print(f\"An unexpected error occurred: {e}\")"
      ],
      "metadata": {
        "colab": {
          "base_uri": "https://localhost:8080/"
        },
        "id": "0XM18bemyrPY",
        "outputId": "e2abdc7e-17ac-443a-e493-c93fab92d8eb"
      },
      "execution_count": 19,
      "outputs": [
        {
          "output_type": "stream",
          "name": "stdout",
          "text": [
            "Error: The file 'nonexistent_file.txt' was not found.\n"
          ]
        }
      ]
    },
    {
      "cell_type": "markdown",
      "source": [
        "Q9-How can you read a file line by line and store its content in a list in Python?"
      ],
      "metadata": {
        "id": "3AyxMNnVy6UW"
      }
    },
    {
      "cell_type": "code",
      "source": [
        "filename = \"practfile.txt\"\n",
        "\n",
        "try:\n",
        "    with open(filename, \"r\") as file:\n",
        "        lines = [line.strip() for line in file]\n",
        "    print(lines)\n",
        "except FileNotFoundError:\n",
        "    print(f\"Error: The file '{filename}' was not found.\")"
      ],
      "metadata": {
        "colab": {
          "base_uri": "https://localhost:8080/"
        },
        "id": "tLrr_hvmy4bJ",
        "outputId": "7764729b-ad64-4816-d295-b76621439b76"
      },
      "execution_count": 20,
      "outputs": [
        {
          "output_type": "stream",
          "name": "stdout",
          "text": [
            "['This is the first line.', 'This is the second line.']\n"
          ]
        }
      ]
    },
    {
      "cell_type": "markdown",
      "source": [
        "Q10-How can you append data to an existing file in Python?"
      ],
      "metadata": {
        "id": "9bjUJi_RzfCi"
      }
    },
    {
      "cell_type": "code",
      "source": [
        "filename = \"example.txt\"\n",
        "data_to_append = \"\\nThis is a new line of text.\"\n",
        "\n",
        "try:\n",
        "    with open(filename, \"a\") as file:\n",
        "        file.write(data_to_append + \"\\n\")\n",
        "    print(\"Data appended successfully.\")\n",
        "except Exception as e:\n",
        "    print(f\"An error occurred: {e}\")"
      ],
      "metadata": {
        "colab": {
          "base_uri": "https://localhost:8080/"
        },
        "id": "-qlPjT5czcYr",
        "outputId": "fded67fe-1eff-4bfa-ba4d-ae9774530e84"
      },
      "execution_count": 21,
      "outputs": [
        {
          "output_type": "stream",
          "name": "stdout",
          "text": [
            "Data appended successfully.\n"
          ]
        }
      ]
    },
    {
      "cell_type": "code",
      "source": [
        "with open(\"example.txt\", \"r\") as file:\n",
        "    for line in file:\n",
        "        print(line.strip())"
      ],
      "metadata": {
        "colab": {
          "base_uri": "https://localhost:8080/"
        },
        "id": "PkCzWk9xz1kB",
        "outputId": "b198a962-3d6a-45dd-ffbb-1f8d742e2db7"
      },
      "execution_count": 22,
      "outputs": [
        {
          "output_type": "stream",
          "name": "stdout",
          "text": [
            "This is the first line.\n",
            "This is the second line.\n",
            "\n",
            "This is a new line of text.\n"
          ]
        }
      ]
    },
    {
      "cell_type": "markdown",
      "source": [
        "Q11-Write a Python program that uses a try-except block to handle an error when attempting to access a dictionary key that doesn't exist."
      ],
      "metadata": {
        "id": "7Zj0acffzt_U"
      }
    },
    {
      "cell_type": "code",
      "source": [
        "# Define a sample dictionary\n",
        "person = {\n",
        "    \"name\": \"Dev Arora\",\n",
        "    \"age\": 20\n",
        "}\n",
        "\n",
        "# Attempt to access a non-existent key\n",
        "try:\n",
        "    print(\"Name:\", person[\"name\"])\n",
        "    print(\"Occupation:\", person[\"occupation\"])  # This key doesn't exist\n",
        "except KeyError as e:\n",
        "    print(f\"Error: The key '{e}' does not exist in the dictionary.\")"
      ],
      "metadata": {
        "colab": {
          "base_uri": "https://localhost:8080/"
        },
        "id": "L0fG1iiozqPy",
        "outputId": "cb375193-bbe7-4fbe-f6d5-f3d7758d93de"
      },
      "execution_count": 23,
      "outputs": [
        {
          "output_type": "stream",
          "name": "stdout",
          "text": [
            "Name: Dev Arora\n",
            "Error: The key ''occupation'' does not exist in the dictionary.\n"
          ]
        }
      ]
    },
    {
      "cell_type": "markdown",
      "source": [
        "Q12-Write a program that demonstrates using multiple except blocks to handle different types of exceptions."
      ],
      "metadata": {
        "id": "ePtjIIsf0sQV"
      }
    },
    {
      "cell_type": "code",
      "source": [
        "def exception_demo():\n",
        "    try:\n",
        "        # Trigger a ValueError\n",
        "        number = int(input(\"Enter a number: \"))\n",
        "\n",
        "        # Trigger a ZeroDivisionError\n",
        "        result = 5/ number\n",
        "\n",
        "        # Trigger a KeyError\n",
        "        sample_dict = {\"a\": 1, \"b\": 2}\n",
        "        print(sample_dict[\"c\"])\n",
        "\n",
        "    except ValueError:\n",
        "        print(\"You did not enter a valid integer.\")\n",
        "\n",
        "    except ZeroDivisionError:\n",
        "        print(\"Division by zero is not allowed.\")\n",
        "\n",
        "    except KeyError as e:\n",
        "        print(f\"KeyError: The key '{e}' does not exist in the dictionary.\")\n",
        "\n",
        "    except Exception as e:\n",
        "        print(f\"An unexpected error occurred: {e}\")\n",
        "\n",
        "# Run the function\n",
        "exception_demo()"
      ],
      "metadata": {
        "colab": {
          "base_uri": "https://localhost:8080/"
        },
        "id": "a7OKllWj0m9W",
        "outputId": "70a365f1-362c-4546-b734-aa51ab5b90bf"
      },
      "execution_count": 26,
      "outputs": [
        {
          "output_type": "stream",
          "name": "stdout",
          "text": [
            "Enter a number: 0\n",
            "Division by zero is not allowed.\n"
          ]
        }
      ]
    },
    {
      "cell_type": "markdown",
      "source": [
        " Q13- How would you check if a file exists before attempting to read it in Python?"
      ],
      "metadata": {
        "id": "MMS4kVre28WC"
      }
    },
    {
      "cell_type": "code",
      "source": [
        "import os\n",
        "\n",
        "file_path = \"example.txt\"\n",
        "\n",
        "if os.path.exists(file_path):\n",
        "    with open(file_path, 'r') as file:\n",
        "        content = file.read()\n",
        "        print(content)\n",
        "else:\n",
        "    print(f\"File does not exist.\")"
      ],
      "metadata": {
        "colab": {
          "base_uri": "https://localhost:8080/"
        },
        "id": "QZYWEMaz02aF",
        "outputId": "f357b8c5-2eeb-4dc7-f76b-4dc3922a57f6"
      },
      "execution_count": 27,
      "outputs": [
        {
          "output_type": "stream",
          "name": "stdout",
          "text": [
            "This is the first line.\n",
            "This is the second line.\n",
            "\n",
            "This is a new line of text.\n",
            "\n"
          ]
        }
      ]
    },
    {
      "cell_type": "markdown",
      "source": [
        "Q14-Write a program that uses the logging module to log both informational and error messages."
      ],
      "metadata": {
        "id": "YEtqK7ygAiqb"
      }
    },
    {
      "cell_type": "code",
      "source": [
        "import logging\n",
        "\n",
        "# Basic logging setup\n",
        "logging.basicConfig(level=logging.INFO)\n",
        "\n",
        "def divide(a, b):\n",
        "    try:\n",
        "        result = a / b\n",
        "        logging.info(f\"Result: {result}\")\n",
        "    except ZeroDivisionError:\n",
        "        logging.error(\"Cannot divide by zero.\")\n",
        "    except Exception as e:\n",
        "        logging.error(f\"Error: {e}\")\n",
        "\n",
        "# Test the function\n",
        "divide(10, 2)\n",
        "#divide(10, 0)\n",
        "#divide(\"10\", 2)"
      ],
      "metadata": {
        "id": "4w4P5UGr3aqM"
      },
      "execution_count": 28,
      "outputs": []
    },
    {
      "cell_type": "markdown",
      "source": [
        "Q15- Write a Python program that prints the content of a file and handles the case when the file is empty."
      ],
      "metadata": {
        "id": "vpH9C1TeBtvk"
      }
    },
    {
      "cell_type": "code",
      "source": [
        "def read_file(filename):\n",
        "    try:\n",
        "        with open(filename, 'r') as file:\n",
        "            content = file.read()\n",
        "            if content.strip() == \"\":\n",
        "                print(\"The file is empty.\")\n",
        "            else:\n",
        "                print(\"File content:\")\n",
        "                print(content)\n",
        "    except FileNotFoundError:\n",
        "        print(\"The file does not exist.\")\n",
        "    except Exception as e:\n",
        "        print(f\"An error occurred: {e}\")\n",
        "\n",
        "# Example usage\n",
        "read_file(\"example.txt\")"
      ],
      "metadata": {
        "colab": {
          "base_uri": "https://localhost:8080/"
        },
        "id": "RMhtVzTzAv_9",
        "outputId": "30fba2cc-f2af-4f5f-ecbb-0b91cf3a22ae"
      },
      "execution_count": 29,
      "outputs": [
        {
          "output_type": "stream",
          "name": "stdout",
          "text": [
            "File content:\n",
            "This is the first line.\n",
            "This is the second line.\n",
            "\n",
            "This is a new line of text.\n",
            "\n"
          ]
        }
      ]
    },
    {
      "cell_type": "markdown",
      "source": [
        "Q16- Demonstrate how to use memory profiling to check the memory usage of a small program."
      ],
      "metadata": {
        "id": "n219kv1NB70K"
      }
    },
    {
      "cell_type": "code",
      "source": [
        "!pip install memory-profiler\n",
        "from memory_profiler import profile\n",
        "\n",
        "@profile\n",
        "def create_large_list():\n",
        "    large_list = [i * 2 for i in range(100000)]\n",
        "    return sum(large_list)\n",
        "\n",
        "if __name__ == \"__main__\":\n",
        "    create_large_list()"
      ],
      "metadata": {
        "colab": {
          "base_uri": "https://localhost:8080/"
        },
        "id": "czhkS3oyB1Za",
        "outputId": "b896faf6-db27-407b-f6bf-ad65923238dd"
      },
      "execution_count": 33,
      "outputs": [
        {
          "output_type": "stream",
          "name": "stdout",
          "text": [
            "Requirement already satisfied: memory-profiler in /usr/local/lib/python3.11/dist-packages (0.61.0)\n",
            "Requirement already satisfied: psutil in /usr/local/lib/python3.11/dist-packages (from memory-profiler) (5.9.5)\n",
            "ERROR: Could not find file /tmp/ipython-input-33-4062299735.py\n"
          ]
        }
      ]
    },
    {
      "cell_type": "markdown",
      "source": [
        "Q17-Write a Python program to create and write a list of numbers to a file, one number per line."
      ],
      "metadata": {
        "id": "X4LDTKFGGdQv"
      }
    },
    {
      "cell_type": "code",
      "source": [
        "# Define a list of numbers\n",
        "numbers = [1, 2, 3, 4, 5, 10, 20, 30]\n",
        "\n",
        "# Specify the output file name\n",
        "file_name = \"numbers.txt\"\n",
        "\n",
        "# Write each number to the file, one per line\n",
        "with open(file_name, 'w') as file:\n",
        "    for number in numbers:\n",
        "        file.write(f\"{number}\\n\")\n",
        "\n",
        "print(f\"Numbers have been written to {file_name}.\")"
      ],
      "metadata": {
        "colab": {
          "base_uri": "https://localhost:8080/"
        },
        "id": "amwlqnj7FLrf",
        "outputId": "2c7aae42-1824-441d-8e83-963160904428"
      },
      "execution_count": 34,
      "outputs": [
        {
          "output_type": "stream",
          "name": "stdout",
          "text": [
            "Numbers have been written to numbers.txt.\n"
          ]
        }
      ]
    },
    {
      "cell_type": "code",
      "source": [
        "with open(\"numbers.txt\", \"r\") as file:\n",
        "    for line in file:\n",
        "        print(line.strip())"
      ],
      "metadata": {
        "colab": {
          "base_uri": "https://localhost:8080/"
        },
        "id": "hHZWY1ivGlrG",
        "outputId": "dadc93ee-7248-4701-f3c6-e37bc40b9d4f"
      },
      "execution_count": 35,
      "outputs": [
        {
          "output_type": "stream",
          "name": "stdout",
          "text": [
            "1\n",
            "2\n",
            "3\n",
            "4\n",
            "5\n",
            "10\n",
            "20\n",
            "30\n"
          ]
        }
      ]
    },
    {
      "cell_type": "markdown",
      "source": [
        "Q18-How would you implement a basic logging setup that logs to a file with rotation after 1MB?"
      ],
      "metadata": {
        "id": "PvkMFDRhGy3R"
      }
    },
    {
      "cell_type": "code",
      "source": [
        "import logging\n",
        "from logging.handlers import RotatingFileHandler\n",
        "\n",
        "# Set up a rotating file handler\n",
        "log_file = \"app.log\"\n",
        "handler = RotatingFileHandler(log_file, maxBytes=1_000_000, backupCount=3)\n",
        "\n",
        "# Configure logging\n",
        "logging.basicConfig(\n",
        "    level=logging.INFO,\n",
        "    format=\"%(asctime)s - %(levelname)s - %(message)s\",\n",
        "    handlers=[handler]\n",
        ")\n",
        "\n",
        "# Example usage\n",
        "for i in range(10000):\n",
        "    logging.info(f\"This is log message number {i}\")"
      ],
      "metadata": {
        "id": "Olknjy9DGscz"
      },
      "execution_count": 36,
      "outputs": []
    },
    {
      "cell_type": "markdown",
      "source": [
        "Q19-Write a program that handles both IndexError and KeyError using a try-except block."
      ],
      "metadata": {
        "id": "1KjU0Mz9HI5H"
      }
    },
    {
      "cell_type": "code",
      "source": [
        "def handle_errors():\n",
        "    my_list = [1, 2, 3]\n",
        "    my_dict = {\"a\": 10, \"b\": 20}\n",
        "\n",
        "    try:\n",
        "        # This will raise IndexError\n",
        "        print(my_list[2])\n",
        "\n",
        "        # This will raise KeyError\n",
        "        print(my_dict[\"h\"])\n",
        "\n",
        "    except IndexError:\n",
        "        print(\"IndexError: List index is out of range.\")\n",
        "\n",
        "    except KeyError:\n",
        "        print(\"KeyError: Key not found in dictionary.\")\n",
        "\n",
        "# Run the function\n",
        "handle_errors()"
      ],
      "metadata": {
        "colab": {
          "base_uri": "https://localhost:8080/"
        },
        "id": "IBUlQpqSG-oQ",
        "outputId": "b7e9fee6-66c5-4975-d56f-c2270725593c"
      },
      "execution_count": 37,
      "outputs": [
        {
          "output_type": "stream",
          "name": "stdout",
          "text": [
            "3\n",
            "KeyError: Key not found in dictionary.\n"
          ]
        }
      ]
    },
    {
      "cell_type": "markdown",
      "source": [
        "Q20-How would you open a file and read its contents using a context manager in Python."
      ],
      "metadata": {
        "id": "w1ykyDGaIE6N"
      }
    },
    {
      "cell_type": "code",
      "source": [
        "file_path = \"example.txt\"\n",
        "\n",
        "# Open and read the file using a context manager\n",
        "with open(file_path, 'r') as file:\n",
        "    content = file.read()\n",
        "    print(content)"
      ],
      "metadata": {
        "colab": {
          "base_uri": "https://localhost:8080/"
        },
        "id": "jYqTiaG8HUE1",
        "outputId": "9bb05a19-6824-4017-b457-8197dfb2d432"
      },
      "execution_count": 38,
      "outputs": [
        {
          "output_type": "stream",
          "name": "stdout",
          "text": [
            "This is the first line.\n",
            "This is the second line.\n",
            "\n",
            "This is a new line of text.\n",
            "\n"
          ]
        }
      ]
    },
    {
      "cell_type": "markdown",
      "source": [
        "Q21-Write a Python program that reads a file and prints the number of occurrences of a specific word."
      ],
      "metadata": {
        "id": "iY6NpL6OIQb4"
      }
    },
    {
      "cell_type": "code",
      "source": [
        "def count_word_occurrences(filename, target_word):\n",
        "    try:\n",
        "        with open(filename, 'r') as file:\n",
        "            content = file.read().lower()  # Convert to lowercase for case-insensitive matching\n",
        "            word_count = content.split().count(target_word.lower())\n",
        "            print(f\"The word '{target_word}' occurs {word_count} times in the file.\")\n",
        "    except FileNotFoundError:\n",
        "        print(\"The file does not exist.\")\n",
        "    except Exception as e:\n",
        "        print(f\"An error occurred: {e}\")\n",
        "\n",
        "# Example usage\n",
        "count_word_occurrences(\"example.txt\", \"new\")"
      ],
      "metadata": {
        "colab": {
          "base_uri": "https://localhost:8080/"
        },
        "id": "faYqEoKbINau",
        "outputId": "f7061af7-e2d0-4f44-d0db-6dc78241d700"
      },
      "execution_count": 39,
      "outputs": [
        {
          "output_type": "stream",
          "name": "stdout",
          "text": [
            "The word 'new' occurs 1 times in the file.\n"
          ]
        }
      ]
    },
    {
      "cell_type": "markdown",
      "source": [
        "Q22-How can you check if a file is empty before attempting to read its contents"
      ],
      "metadata": {
        "id": "gkSBxmg0KBMb"
      }
    },
    {
      "cell_type": "code",
      "source": [
        "file_path = \"example.txt\"\n",
        "\n",
        "try:\n",
        "    with open(file_path, 'r') as file:\n",
        "        content = file.read()\n",
        "        if not content.strip():\n",
        "            print(\"The file is empty.\")\n",
        "        else:\n",
        "            print(content)\n",
        "except FileNotFoundError:\n",
        "    print(\"File not found.\")"
      ],
      "metadata": {
        "colab": {
          "base_uri": "https://localhost:8080/"
        },
        "id": "i-UkR7vXJ8rA",
        "outputId": "bc6eb6b6-a872-48dd-d977-403e70dc8e1b"
      },
      "execution_count": 40,
      "outputs": [
        {
          "output_type": "stream",
          "name": "stdout",
          "text": [
            "This is the first line.\n",
            "This is the second line.\n",
            "\n",
            "This is a new line of text.\n",
            "\n"
          ]
        }
      ]
    },
    {
      "cell_type": "markdown",
      "source": [
        " Q23-Write a Python program that writes to a log file when an error occurs during file handling."
      ],
      "metadata": {
        "id": "w2xm0qmlLNko"
      }
    },
    {
      "cell_type": "code",
      "source": [
        "import logging\n",
        "\n",
        "# Set up logging to a file\n",
        "logging.basicConfig(\n",
        "    filename='error_log.txt',\n",
        "    level=logging.ERROR,\n",
        "    format='%(asctime)s - %(levelname)s - %(message)s'\n",
        ")\n",
        "\n",
        "def read_file(filename):\n",
        "    try:\n",
        "        with open(filename, 'r') as file:\n",
        "            content = file.read()\n",
        "            print(content)\n",
        "    except Exception as e:\n",
        "        logging.error(f\"Error reading file '{filename}': {e}\")\n",
        "        print(\"An error occurred. Check the log file for details.\")\n",
        "\n",
        "# Example usage\n",
        "read_file(\"practfile.txt\")"
      ],
      "metadata": {
        "colab": {
          "base_uri": "https://localhost:8080/"
        },
        "id": "AaRGL7ISKp2s",
        "outputId": "29589e52-40cd-4b2a-d090-08b80070df60"
      },
      "execution_count": 41,
      "outputs": [
        {
          "output_type": "stream",
          "name": "stdout",
          "text": [
            "This is the first line.\n",
            "This is the second line.\n",
            "\n"
          ]
        }
      ]
    }
  ]
}